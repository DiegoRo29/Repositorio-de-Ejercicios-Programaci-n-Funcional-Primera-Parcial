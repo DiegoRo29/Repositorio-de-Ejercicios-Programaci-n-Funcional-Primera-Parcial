{
 "cells": [
  {
   "cell_type": "code",
   "execution_count": 1,
   "id": "285a590f",
   "metadata": {},
   "outputs": [
    {
     "name": "stdout",
     "output_type": "stream",
     "text": [
      "Hola Diego tienes 19 años\n"
     ]
    }
   ],
   "source": [
    "#Interpolacion de cadenas\n",
    "\n",
    "name = \"Diego\"\n",
    "edad = \"19\"\n",
    "print(\"Hola\", name,\"tienes\",edad,\"años\")"
   ]
  },
  {
   "cell_type": "code",
   "execution_count": 2,
   "id": "6efe1a22",
   "metadata": {},
   "outputs": [
    {
     "data": {
      "text/plain": [
       "'Hola Diego, tienes 19 años'"
      ]
     },
     "execution_count": 2,
     "metadata": {},
     "output_type": "execute_result"
    }
   ],
   "source": [
    "#fstring\n",
    "mensaje = f\"Hola {name}, tienes {edad} años\"\n",
    "mensaje"
   ]
  },
  {
   "cell_type": "code",
   "execution_count": 3,
   "id": "7353a34e",
   "metadata": {},
   "outputs": [
    {
     "name": "stdout",
     "output_type": "stream",
     "text": [
      "Hola Diego, tienes 19 años\n"
     ]
    }
   ],
   "source": [
    "print(mensaje)"
   ]
  },
  {
   "cell_type": "code",
   "execution_count": 9,
   "id": "40933d20",
   "metadata": {},
   "outputs": [],
   "source": [
    "def saludo():\n",
    "    print(\"Hola Mundo!!!\")"
   ]
  },
  {
   "cell_type": "code",
   "execution_count": 10,
   "id": "649e271c",
   "metadata": {},
   "outputs": [
    {
     "name": "stdout",
     "output_type": "stream",
     "text": [
      "Hola Mundo!!!\n",
      "Hola Mundo!!!\n"
     ]
    }
   ],
   "source": [
    "#Las funciones se invocna o se asignan\n",
    "mi_funcion = saludo() #asignada la funcion\n",
    "saludo() #invocando la funcion"
   ]
  },
  {
   "cell_type": "code",
   "execution_count": 11,
   "id": "99eb751a",
   "metadata": {},
   "outputs": [
    {
     "name": "stdout",
     "output_type": "stream",
     "text": [
      "None\n"
     ]
    }
   ],
   "source": [
    "#Todas las fnciones que no retornan nada de manera explicita retornan \"None\".\n",
    "print(mi_funcion)"
   ]
  },
  {
   "cell_type": "code",
   "execution_count": 12,
   "id": "cb138085",
   "metadata": {},
   "outputs": [],
   "source": [
    "def saludo2():\n",
    "    return \"Hola MUNDO!!!\""
   ]
  },
  {
   "cell_type": "code",
   "execution_count": 13,
   "id": "7f938fee",
   "metadata": {},
   "outputs": [
    {
     "data": {
      "text/plain": [
       "'Hola MUNDO!!!'"
      ]
     },
     "execution_count": 13,
     "metadata": {},
     "output_type": "execute_result"
    }
   ],
   "source": [
    "saludo2()#invocación"
   ]
  },
  {
   "cell_type": "code",
   "execution_count": 14,
   "id": "7ace7f54",
   "metadata": {},
   "outputs": [],
   "source": [
    "mi_funcion2 = saludo2()#asignarla"
   ]
  },
  {
   "cell_type": "code",
   "execution_count": 15,
   "id": "4f11f964",
   "metadata": {},
   "outputs": [
    {
     "name": "stdout",
     "output_type": "stream",
     "text": [
      "Hola MUNDO!!!\n"
     ]
    }
   ],
   "source": [
    "print(mi_funcion2)"
   ]
  },
  {
   "cell_type": "code",
   "execution_count": 16,
   "id": "97ab819e",
   "metadata": {},
   "outputs": [
    {
     "name": "stdout",
     "output_type": "stream",
     "text": [
      " La suma de 5 + 10 = 15\n"
     ]
    }
   ],
   "source": [
    "a = 5\n",
    "b = 10\n",
    "res = f\" La suma de {a} + {b} = {a+b}\"\n",
    "print(res)"
   ]
  },
  {
   "cell_type": "code",
   "execution_count": 17,
   "id": "922d39aa",
   "metadata": {},
   "outputs": [],
   "source": [
    "def suma(a,b):\n",
    "    return a+b"
   ]
  },
  {
   "cell_type": "code",
   "execution_count": 18,
   "id": "8a163dda",
   "metadata": {},
   "outputs": [],
   "source": [
    "res = f\"La suma de {a} + {b} = {suma(a,b)}\""
   ]
  },
  {
   "cell_type": "code",
   "execution_count": 19,
   "id": "1b786d3d",
   "metadata": {},
   "outputs": [
    {
     "name": "stdout",
     "output_type": "stream",
     "text": [
      "La suma de 5 + 10 = 15\n"
     ]
    }
   ],
   "source": [
    "print(res)"
   ]
  },
  {
   "cell_type": "code",
   "execution_count": 20,
   "id": "5e337db2",
   "metadata": {},
   "outputs": [
    {
     "name": "stdout",
     "output_type": "stream",
     "text": [
      "numeros: ['uno', 'dos', 'tres']\n"
     ]
    }
   ],
   "source": [
    "lista = [\"uno\", \"dos\", \"tres\", \"tres\"]\n",
    "msg_numeros = f\"Numeros: {lista_numeros}\"\n",
    "print(msg_numeros)\n",
    "#se pueden tener valores repetidos en las listas"
   ]
  },
  {
   "cell_type": "code",
   "execution_count": 22,
   "id": "c69d29f4",
   "metadata": {},
   "outputs": [
    {
     "name": "stdout",
     "output_type": "stream",
     "text": [
      "Numeros: ('uno', 'dos', 'tres', 'tres')\n"
     ]
    }
   ],
   "source": [
    "tupla_numeros = (\"uno\", \"dos\", \"tres\", \"tres\")\n",
    "msg_numeros = f\"Numeros: {tupla_numeros}\"\n",
    "print(msg_numeros)\n",
    "#en las tuplas no se pueden tener valores repetidos"
   ]
  },
  {
   "cell_type": "code",
   "execution_count": 25,
   "id": "00e0e7a0",
   "metadata": {},
   "outputs": [
    {
     "name": "stdout",
     "output_type": "stream",
     "text": [
      "{'4', '7', '10', '2', '6', '1', '9', '5', '3', '8'}\n"
     ]
    }
   ],
   "source": [
    "set_numeros = {\"1\",\"2\",\"3\",\"4\",\"5\",\"6\",\"7\",\"8\",\"9\",\"10\"}\n",
    "print(set_numeros)"
   ]
  },
  {
   "cell_type": "code",
   "execution_count": 26,
   "id": "c41efd46",
   "metadata": {},
   "outputs": [
    {
     "name": "stdout",
     "output_type": "stream",
     "text": [
      "Numeros: {'1': 'uno', '2': 'dos', '3': 'tres'}\n"
     ]
    }
   ],
   "source": [
    "dict_numeros = {\"1\": \"uno\", \"2\": \"dos\", \"3\": \"tres\"}\n",
    "msg_dict_numeros = f\"Numeros: {dict_numeros}\"\n",
    "print(msg_dict_numeros)"
   ]
  },
  {
   "cell_type": "code",
   "execution_count": 28,
   "id": "51532fb4",
   "metadata": {},
   "outputs": [
    {
     "name": "stdout",
     "output_type": "stream",
     "text": [
      "Numero: dos\n"
     ]
    }
   ],
   "source": [
    "msg_dict_numero = f\"Numero: {dict_numeros['2']}\"\n",
    "print(msg_dict_numero)"
   ]
  },
  {
   "cell_type": "code",
   "execution_count": 29,
   "id": "02e0ea1c",
   "metadata": {},
   "outputs": [
    {
     "data": {
      "text/plain": [
       "'\\nEscriba una funcion que mediante fstrings retorne el mensaje \"Hola <nombre> tienes <edad> años\".\\nLos argumentos de la función son: año actual, año de nacimiento y nombre.\\n'"
      ]
     },
     "execution_count": 29,
     "metadata": {},
     "output_type": "execute_result"
    }
   ],
   "source": [
    "\"\"\"\n",
    "Escriba una funcion que mediante fstrings retorne el mensaje \"Hola <nombre> tienes <edad> años\".\n",
    "Los argumentos de la función son: año actual, año de nacimiento y nombre.\n",
    "\"\"\""
   ]
  },
  {
   "cell_type": "code",
   "execution_count": 30,
   "id": "76605153",
   "metadata": {},
   "outputs": [
    {
     "name": "stdout",
     "output_type": "stream",
     "text": [
      "Hola Diego tienes 19\n"
     ]
    }
   ],
   "source": [
    "def mensaje (name:str, a_actual:int, a_nac:int)-> str:\n",
    "    return f\"Hola {name} tienes {a_actual-a_nac}\"\n",
    "\n",
    "print(mensaje(\"Diego\", 2022, 2003))"
   ]
  },
  {
   "cell_type": "code",
   "execution_count": 44,
   "id": "043c1f7e",
   "metadata": {},
   "outputs": [
    {
     "name": "stdout",
     "output_type": "stream",
     "text": [
      " No.            Materia            Profesor\n",
      "  1  Estructura de datos            Soto \n",
      "  2  Ecuaciones diferenciales       Eli  \n",
      "  3  Métodos numericos             Edgar \n",
      "  4  Programacion Funcional          Yo  \n"
     ]
    }
   ],
   "source": [
    "num_materia=[\"No.\",1,2,3,4]\n",
    "name_materia=[\"Materia\",\"Estructura de datos\", \n",
    "             \"Ecuaciones diferenciales\",\n",
    "             \"Métodos numericos\",\n",
    "             \"Programacion Funcional\"]\n",
    "name_profesor=[\"Profesor\",\"Soto\",\"Eli\",\"Edgar\",\"Yo\"]\n",
    "\n",
    "print(f\"{num_materia[0]:^5}{name_materia[0]:^30}{name_profesor[0]:^6}\")\n",
    "for i in range (1,5):\n",
    "    print(f\"{num_materia[i]:^5}{name_materia[i]:<30}{name_profesor[i]:^6}\")"
   ]
  },
  {
   "cell_type": "code",
   "execution_count": null,
   "id": "806d285a",
   "metadata": {},
   "outputs": [],
   "source": [
    "#Hacer una "
   ]
  }
 ],
 "metadata": {
  "kernelspec": {
   "display_name": "Python 3 (ipykernel)",
   "language": "python",
   "name": "python3"
  },
  "language_info": {
   "codemirror_mode": {
    "name": "ipython",
    "version": 3
   },
   "file_extension": ".py",
   "mimetype": "text/x-python",
   "name": "python",
   "nbconvert_exporter": "python",
   "pygments_lexer": "ipython3",
   "version": "3.9.12"
  }
 },
 "nbformat": 4,
 "nbformat_minor": 5
}
